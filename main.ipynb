{
 "cells": [
  {
   "cell_type": "markdown",
   "metadata": {},
   "source": [
    "# In pursuit of ESG winners"
   ]
  },
  {
   "cell_type": "code",
   "execution_count": 20,
   "metadata": {},
   "outputs": [],
   "source": [
    "import pandas as pd\n",
    "import matplotlib as plt\n",
    "import numpy as np\n",
    "import seaborn as sns"
   ]
  },
  {
   "cell_type": "code",
   "execution_count": 21,
   "metadata": {},
   "outputs": [
    {
     "data": {
      "text/html": [
       "<div>\n",
       "<style scoped>\n",
       "    .dataframe tbody tr th:only-of-type {\n",
       "        vertical-align: middle;\n",
       "    }\n",
       "\n",
       "    .dataframe tbody tr th {\n",
       "        vertical-align: top;\n",
       "    }\n",
       "\n",
       "    .dataframe thead th {\n",
       "        text-align: right;\n",
       "    }\n",
       "</style>\n",
       "<table border=\"1\" class=\"dataframe\">\n",
       "  <thead>\n",
       "    <tr style=\"text-align: right;\">\n",
       "      <th></th>\n",
       "      <th>Name</th>\n",
       "      <th>RIC</th>\n",
       "      <th>Exchange</th>\n",
       "      <th>TRBC Sector</th>\n",
       "      <th>Type of Equity</th>\n",
       "      <th>Currency</th>\n",
       "      <th>ISIN</th>\n",
       "      <th>CUSIP/CINS</th>\n",
       "      <th>SEDOL</th>\n",
       "      <th>GICS Sector</th>\n",
       "      <th>...</th>\n",
       "      <th>Operating_Margin</th>\n",
       "      <th>EPS_Growth_5_Years</th>\n",
       "      <th>DPS_Growth_5_Years</th>\n",
       "      <th>PE</th>\n",
       "      <th>Dividend_Yield</th>\n",
       "      <th>Debt_to_Equity</th>\n",
       "      <th>Current_Ratio</th>\n",
       "      <th>Volatility_200_Days</th>\n",
       "      <th>%_Price_Change_Relative_52W_High</th>\n",
       "      <th>%_Price_Change_Relative_52W_Low</th>\n",
       "    </tr>\n",
       "  </thead>\n",
       "  <tbody>\n",
       "    <tr>\n",
       "      <th>0</th>\n",
       "      <td>Oxford Metrics PLC</td>\n",
       "      <td>OMG1.L</td>\n",
       "      <td>London Stock Exchange</td>\n",
       "      <td>Software (NEC)</td>\n",
       "      <td>Ordinary Share</td>\n",
       "      <td>British Penny</td>\n",
       "      <td>GB0030312788</td>\n",
       "      <td>G6748U100</td>\n",
       "      <td>3031278</td>\n",
       "      <td>Information Technology, Software &amp; Services, S...</td>\n",
       "      <td>...</td>\n",
       "      <td>8.66</td>\n",
       "      <td>0.85</td>\n",
       "      <td>15.81</td>\n",
       "      <td>18.02</td>\n",
       "      <td>3.09</td>\n",
       "      <td>0.21</td>\n",
       "      <td>6.80</td>\n",
       "      <td>23.60</td>\n",
       "      <td>33.41</td>\n",
       "      <td>3.85</td>\n",
       "    </tr>\n",
       "    <tr>\n",
       "      <th>1</th>\n",
       "      <td>Aptitude Software Group PLC</td>\n",
       "      <td>APTD.L</td>\n",
       "      <td>London Stock Exchange</td>\n",
       "      <td>Application Software</td>\n",
       "      <td>Ordinary Share</td>\n",
       "      <td>British Penny</td>\n",
       "      <td>GB00BJV2F804</td>\n",
       "      <td>G6093X105</td>\n",
       "      <td>BJV2F80</td>\n",
       "      <td>Information Technology, Software &amp; Services, S...</td>\n",
       "      <td>...</td>\n",
       "      <td>5.54</td>\n",
       "      <td>-25.62</td>\n",
       "      <td>-5.44</td>\n",
       "      <td>61.21</td>\n",
       "      <td>2.09</td>\n",
       "      <td>0.95</td>\n",
       "      <td>1.10</td>\n",
       "      <td>39.28</td>\n",
       "      <td>35.18</td>\n",
       "      <td>3.20</td>\n",
       "    </tr>\n",
       "    <tr>\n",
       "      <th>2</th>\n",
       "      <td>Braemar PLC</td>\n",
       "      <td>BRMS.L</td>\n",
       "      <td>London Stock Exchange</td>\n",
       "      <td>Marine Freight &amp; Logistics (NEC)</td>\n",
       "      <td>Ordinary Share</td>\n",
       "      <td>British Penny</td>\n",
       "      <td>GB0000600931</td>\n",
       "      <td>G1554N100</td>\n",
       "      <td>0060093</td>\n",
       "      <td>Industrials, Transportation, Transportation In...</td>\n",
       "      <td>...</td>\n",
       "      <td>9.93</td>\n",
       "      <td>102.34</td>\n",
       "      <td>-8.46</td>\n",
       "      <td>7.75</td>\n",
       "      <td>4.72</td>\n",
       "      <td>1.03</td>\n",
       "      <td>1.23</td>\n",
       "      <td>32.19</td>\n",
       "      <td>33.43</td>\n",
       "      <td>8.37</td>\n",
       "    </tr>\n",
       "    <tr>\n",
       "      <th>3</th>\n",
       "      <td>Vertu Motors PLC</td>\n",
       "      <td>VTU.L</td>\n",
       "      <td>London Stock Exchange</td>\n",
       "      <td>Auto Vehicles, Parts &amp; Service Retailers (NEC)</td>\n",
       "      <td>Ordinary Share</td>\n",
       "      <td>British Penny</td>\n",
       "      <td>GB00B1GK4645</td>\n",
       "      <td>G9337V109</td>\n",
       "      <td>B1GK464</td>\n",
       "      <td>Consumer Discretionary, Retailing, Specialty R...</td>\n",
       "      <td>...</td>\n",
       "      <td>1.14</td>\n",
       "      <td>3.24</td>\n",
       "      <td>7.47</td>\n",
       "      <td>9.52</td>\n",
       "      <td>3.12</td>\n",
       "      <td>3.05</td>\n",
       "      <td>1.04</td>\n",
       "      <td>30.38</td>\n",
       "      <td>5.78</td>\n",
       "      <td>89.23</td>\n",
       "    </tr>\n",
       "    <tr>\n",
       "      <th>4</th>\n",
       "      <td>Watkin Jones PLC</td>\n",
       "      <td>WJG.L</td>\n",
       "      <td>London Stock Exchange</td>\n",
       "      <td>Real Estate Rental, Development &amp; Operations (...</td>\n",
       "      <td>Ordinary Share</td>\n",
       "      <td>British Penny</td>\n",
       "      <td>GB00BD6RF223</td>\n",
       "      <td>G94793109</td>\n",
       "      <td>BD6RF22</td>\n",
       "      <td>Real Estate, Real Estate Management &amp; Developm...</td>\n",
       "      <td>...</td>\n",
       "      <td>13.43</td>\n",
       "      <td>-17.90</td>\n",
       "      <td>2.31</td>\n",
       "      <td>3.42</td>\n",
       "      <td>16.93</td>\n",
       "      <td>1.19</td>\n",
       "      <td>2.98</td>\n",
       "      <td>74.64</td>\n",
       "      <td>70.37</td>\n",
       "      <td>2.50</td>\n",
       "    </tr>\n",
       "  </tbody>\n",
       "</table>\n",
       "<p>5 rows × 30 columns</p>\n",
       "</div>"
      ],
      "text/plain": [
       "                          Name     RIC               Exchange  \\\n",
       "0           Oxford Metrics PLC  OMG1.L  London Stock Exchange   \n",
       "1  Aptitude Software Group PLC  APTD.L  London Stock Exchange   \n",
       "2                  Braemar PLC  BRMS.L  London Stock Exchange   \n",
       "3             Vertu Motors PLC   VTU.L  London Stock Exchange   \n",
       "4             Watkin Jones PLC   WJG.L  London Stock Exchange   \n",
       "\n",
       "                                         TRBC Sector  Type of Equity  \\\n",
       "0                                     Software (NEC)  Ordinary Share   \n",
       "1                               Application Software  Ordinary Share   \n",
       "2                   Marine Freight & Logistics (NEC)  Ordinary Share   \n",
       "3     Auto Vehicles, Parts & Service Retailers (NEC)  Ordinary Share   \n",
       "4  Real Estate Rental, Development & Operations (...  Ordinary Share   \n",
       "\n",
       "        Currency          ISIN CUSIP/CINS    SEDOL  \\\n",
       "0  British Penny  GB0030312788  G6748U100  3031278   \n",
       "1  British Penny  GB00BJV2F804  G6093X105  BJV2F80   \n",
       "2  British Penny  GB0000600931  G1554N100  0060093   \n",
       "3  British Penny  GB00B1GK4645  G9337V109  B1GK464   \n",
       "4  British Penny  GB00BD6RF223  G94793109  BD6RF22   \n",
       "\n",
       "                                         GICS Sector  ... Operating_Margin  \\\n",
       "0  Information Technology, Software & Services, S...  ...             8.66   \n",
       "1  Information Technology, Software & Services, S...  ...             5.54   \n",
       "2  Industrials, Transportation, Transportation In...  ...             9.93   \n",
       "3  Consumer Discretionary, Retailing, Specialty R...  ...             1.14   \n",
       "4  Real Estate, Real Estate Management & Developm...  ...            13.43   \n",
       "\n",
       "  EPS_Growth_5_Years  DPS_Growth_5_Years     PE  Dividend_Yield  \\\n",
       "0               0.85               15.81  18.02            3.09   \n",
       "1             -25.62               -5.44  61.21            2.09   \n",
       "2             102.34               -8.46   7.75            4.72   \n",
       "3               3.24                7.47   9.52            3.12   \n",
       "4             -17.90                2.31   3.42           16.93   \n",
       "\n",
       "   Debt_to_Equity  Current_Ratio Volatility_200_Days  \\\n",
       "0            0.21           6.80               23.60   \n",
       "1            0.95           1.10               39.28   \n",
       "2            1.03           1.23               32.19   \n",
       "3            3.05           1.04               30.38   \n",
       "4            1.19           2.98               74.64   \n",
       "\n",
       "  %_Price_Change_Relative_52W_High %_Price_Change_Relative_52W_Low  \n",
       "0                            33.41                            3.85  \n",
       "1                            35.18                            3.20  \n",
       "2                            33.43                            8.37  \n",
       "3                             5.78                           89.23  \n",
       "4                            70.37                            2.50  \n",
       "\n",
       "[5 rows x 30 columns]"
      ]
     },
     "execution_count": 21,
     "metadata": {},
     "output_type": "execute_result"
    }
   ],
   "source": [
    "df = pd.read_csv('data_v1.csv')\n",
    "df.head()"
   ]
  },
  {
   "cell_type": "code",
   "execution_count": 22,
   "metadata": {},
   "outputs": [
    {
     "data": {
      "text/plain": [
       "Index(['Name', 'RIC', 'Exchange', 'TRBC Sector', 'Type of Equity', 'Currency',\n",
       "       'ISIN', 'CUSIP/CINS', 'SEDOL', 'GICS Sector', 'Market_Cap_(USD)',\n",
       "       'Country_of_Issuer', 'ESG_Score', 'Environmental_Pillar_Score',\n",
       "       'Social_Pillar_Score', 'Governance_Pillar_Score', 'Controversies_Score',\n",
       "       'Estimated_CO2_Equivalents_Emission', 'Number_of_Employees', 'ROE',\n",
       "       'Operating_Margin', 'EPS_Growth_5_Years', 'DPS_Growth_5_Years', 'PE',\n",
       "       'Dividend_Yield', 'Debt_to_Equity', 'Current_Ratio',\n",
       "       'Volatility_200_Days', '%_Price_Change_Relative_52W_High',\n",
       "       '%_Price_Change_Relative_52W_Low'],\n",
       "      dtype='object')"
      ]
     },
     "execution_count": 22,
     "metadata": {},
     "output_type": "execute_result"
    }
   ],
   "source": [
    "df.columns"
   ]
  },
  {
   "cell_type": "code",
   "execution_count": 23,
   "metadata": {},
   "outputs": [
    {
     "data": {
      "text/plain": [
       "Name                                   0\n",
       "RIC                                    0\n",
       "Exchange                               0\n",
       "TRBC Sector                            0\n",
       "Type of Equity                         0\n",
       "Currency                               0\n",
       "ISIN                                   0\n",
       "CUSIP/CINS                             0\n",
       "SEDOL                                  0\n",
       "GICS Sector                           17\n",
       "Market_Cap_(USD)                       0\n",
       "Country_of_Issuer                      0\n",
       "ESG_Score                              0\n",
       "Environmental_Pillar_Score             0\n",
       "Social_Pillar_Score                    0\n",
       "Governance_Pillar_Score                0\n",
       "Controversies_Score                    0\n",
       "Estimated_CO2_Equivalents_Emission     0\n",
       "Number_of_Employees                    0\n",
       "ROE                                    0\n",
       "Operating_Margin                       0\n",
       "EPS_Growth_5_Years                     0\n",
       "DPS_Growth_5_Years                     0\n",
       "PE                                     0\n",
       "Dividend_Yield                         0\n",
       "Debt_to_Equity                         0\n",
       "Current_Ratio                          0\n",
       "Volatility_200_Days                    0\n",
       "%_Price_Change_Relative_52W_High       0\n",
       "%_Price_Change_Relative_52W_Low        0\n",
       "dtype: int64"
      ]
     },
     "execution_count": 23,
     "metadata": {},
     "output_type": "execute_result"
    }
   ],
   "source": [
    "\n",
    "df.isnull().sum()"
   ]
  },
  {
   "cell_type": "code",
   "execution_count": 26,
   "metadata": {},
   "outputs": [
    {
     "name": "stdout",
     "output_type": "stream",
     "text": [
      "Observations lost after dropping null values:  0\n"
     ]
    }
   ],
   "source": [
    "df_init_obs_num = df.shape[0]\n",
    "df = df.dropna()\n",
    "df_lost_obs_num = df_init_obs_num - df.shape[0]\n",
    "print(\"Observations lost after dropping null values: \", df_lost_obs_num)"
   ]
  },
  {
   "cell_type": "code",
   "execution_count": 30,
   "metadata": {},
   "outputs": [
    {
     "data": {
      "text/plain": [
       "24"
      ]
     },
     "execution_count": 30,
     "metadata": {},
     "output_type": "execute_result"
    }
   ],
   "source": [
    "df.duplicated().sum()\n"
   ]
  },
  {
   "cell_type": "code",
   "execution_count": 34,
   "metadata": {},
   "outputs": [
    {
     "name": "stdout",
     "output_type": "stream",
     "text": [
      "Index of duplicate rows: Index([312, 313, 314, 315, 316, 317, 318, 319, 320, 321, 322, 323, 324, 325,\n",
      "       326, 327, 328, 329, 330, 331, 332, 333, 334, 335],\n",
      "      dtype='int64')\n",
      "Index of non-duplicate rows: Index([  0,   1,   2,   3,   4,   5,   6,   7,   8,   9,\n",
      "       ...\n",
      "       302, 303, 304, 305, 306, 307, 308, 309, 310, 311],\n",
      "      dtype='int64', length=295)\n"
     ]
    }
   ],
   "source": [
    "duplicate_index = df[df.duplicated()].index\n",
    "print(\"Index of duplicate rows:\", duplicate_index)"
   ]
  },
  {
   "cell_type": "code",
   "execution_count": 45,
   "metadata": {},
   "outputs": [
    {
     "name": "stdout",
     "output_type": "stream",
     "text": [
      "['Shell PLC' 'AstraZeneca PLC' 'TotalEnergies SE' 'Microsoft Corp'\n",
      " 'Apple Inc' 'Mastercard Inc' 'Comcast Corp' 'Merck & Co Inc'\n",
      " 'Cisco Systems Inc' 'Exxon Mobil Corp' 'Coca-Cola Co' 'PepsiCo Inc'\n",
      " 'TotalEnergies SE' 'Visa Inc' 'Pfizer Inc' 'SAP SE' 'Johnson & Johnson'\n",
      " 'ASML Holding NV' 'Chevron Corp' 'Walmart Inc' 'Oracle Corp'\n",
      " 'Procter & Gamble Co' 'Abbott Laboratories' 'Home Depot Inc']\n",
      "          Name     RIC               Exchange           TRBC Sector  \\\n",
      "67   Shell PLC  SHEL.L  London Stock Exchange  Integrated Oil & Gas   \n",
      "312  Shell PLC  SHEL.L  London Stock Exchange  Integrated Oil & Gas   \n",
      "\n",
      "     Type of Equity       Currency          ISIN CUSIP/CINS    SEDOL  \\\n",
      "67   Ordinary Share  British Penny  GB00BP6MXD84  G80827101  BP6MXD8   \n",
      "312  Ordinary Share  British Penny  GB00BP6MXD84  G80827101  BP6MXD8   \n",
      "\n",
      "                                           GICS Sector  ... Operating_Margin  \\\n",
      "67   Energy, Oil, Gas & Consumable Fuels, Integrate...  ...            15.43   \n",
      "312  Energy, Oil, Gas & Consumable Fuels, Integrate...  ...            15.43   \n",
      "\n",
      "    EPS_Growth_5_Years  DPS_Growth_5_Years   PE  Dividend_Yield  \\\n",
      "67               31.87               -9.18  8.2            3.52   \n",
      "312              31.87               -9.18  8.2            3.52   \n",
      "\n",
      "     Debt_to_Equity  Current_Ratio Volatility_200_Days  \\\n",
      "67             1.31           1.37               22.81   \n",
      "312            1.31           1.37               22.81   \n",
      "\n",
      "    %_Price_Change_Relative_52W_High %_Price_Change_Relative_52W_Low  \n",
      "67                              0.16                           23.89  \n",
      "312                             0.16                           23.89  \n",
      "\n",
      "[2 rows x 30 columns]\n"
     ]
    }
   ],
   "source": [
    "# print the names that are duplicated\n",
    "print(df[df.duplicated()]['Name'].values)\n",
    "\n",
    "# print the rows where the name is Shell PLC\n",
    "print(df[df['Name'] == 'Shell PLC'])"
   ]
  },
  {
   "cell_type": "code",
   "execution_count": 46,
   "metadata": {},
   "outputs": [
    {
     "data": {
      "text/plain": [
       "(295, 30)"
      ]
     },
     "execution_count": 46,
     "metadata": {},
     "output_type": "execute_result"
    }
   ],
   "source": [
    "df = df.drop_duplicates()\n",
    "df.shape\n"
   ]
  },
  {
   "cell_type": "code",
   "execution_count": 49,
   "metadata": {},
   "outputs": [
    {
     "data": {
      "image/png": "[encoded data removed]",
      "text/plain": [
       "<Figure size 640x480 with 1 Axes>"
      ]
     },
     "metadata": {},
     "output_type": "display_data"
    }
   ],
   "source": [
    "\n",
    "import matplotlib.pyplot as plt\n",
    "\n",
    "columns = ['PE', 'Dividend_Yield']\n",
    "\n",
    "\n",
    "df.boxplot(column=columns)\n",
    "\n",
    "plt.title('Boxplot of PE and Dividend Yield')\n",
    "plt.xlabel('Columns')\n",
    "plt.ylabel('Values')\n",
    "\n",
    "\n",
    "plt.show()"
   ]
  }
 ],
 "metadata": {
  "kernelspec": {
   "display_name": "Python 3",
   "language": "python",
   "name": "python3"
  },
  "language_info": {
   "codemirror_mode": {
    "name": "ipython",
    "version": 3
   },
   "file_extension": ".py",
   "mimetype": "text/x-python",
   "name": "python",
   "nbconvert_exporter": "python",
   "pygments_lexer": "ipython3",
   "version": "3.11.5"
  }
 },
 "nbformat": 4,
 "nbformat_minor": 2
}
